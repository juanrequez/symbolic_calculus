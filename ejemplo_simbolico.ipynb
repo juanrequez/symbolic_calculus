{
 "cells": [
  {
   "cell_type": "markdown",
   "id": "999c60bb",
   "metadata": {},
   "source": [
    "# Cálculo Simbólico\n",
    "## Solución de un problema de oscilación\n",
    "### Elaborado por Juan Pablo Requez\n",
    "\n",
    "Considere un carro que posee masa M, unido a una pared a través de un resorte de coeficiente K. Considere la fricción con el aire a través de una amortiguación viscosa de coeficiente B\n",
    "\n",
    "<img src=\"sistema_masa_resorte.png\" />\n"
   ]
  },
  {
   "cell_type": "code",
   "execution_count": 2,
   "id": "5aacdea1",
   "metadata": {},
   "outputs": [],
   "source": [
    "import sympy\n",
    "sympy.init_printing()"
   ]
  },
  {
   "cell_type": "markdown",
   "id": "062e2da3",
   "metadata": {},
   "source": [
    "La ecuación diferencial que representa a este sistema mecánico está dada por\n",
    "\n",
    "\\begin{equation*}\n",
    "M\\frac{d^2 y}{dt^2}+B\\frac{dy}{dt}+Ky = 0\n",
    "\\end{equation*}\n"
   ]
  },
  {
   "cell_type": "markdown",
   "id": "8d3ea9f0",
   "metadata": {},
   "source": [
    "se definen las variables:"
   ]
  },
  {
   "cell_type": "code",
   "execution_count": 3,
   "id": "a11fe752",
   "metadata": {},
   "outputs": [],
   "source": [
    "y = sympy.Symbol('y')\n",
    "t = sympy.Symbol('t')\n",
    "M, K, B = sympy.symbols(\"M,K,B\",Positive=True)\n",
    "yini = sympy.Symbol('yini')"
   ]
  },
  {
   "cell_type": "markdown",
   "id": "505bd4c9",
   "metadata": {},
   "source": [
    "y representa la variable dependiente, y es una función indefinida"
   ]
  },
  {
   "cell_type": "code",
   "execution_count": 4,
   "id": "09185e81",
   "metadata": {},
   "outputs": [],
   "source": [
    "y=sympy.Function('y')"
   ]
  },
  {
   "cell_type": "code",
   "execution_count": 5,
   "id": "44912193",
   "metadata": {},
   "outputs": [
    {
     "data": {
      "image/png": "[encoded data removed]",
      "text/latex": [
       "$\\displaystyle \\frac{d^{2}}{d t^{2}} y{\\left(t \\right)}$"
      ],
      "text/plain": [
       "  2      \n",
       " d       \n",
       "───(y(t))\n",
       "  2      \n",
       "dt       "
      ]
     },
     "execution_count": 5,
     "metadata": {},
     "output_type": "execute_result"
    }
   ],
   "source": [
    "y(t).diff(t,t)"
   ]
  },
  {
   "cell_type": "markdown",
   "id": "c5e08cc3",
   "metadata": {},
   "source": [
    "Se define la ecuación diferencial del problema"
   ]
  },
  {
   "cell_type": "code",
   "execution_count": 6,
   "id": "60f09626",
   "metadata": {},
   "outputs": [
    {
     "data": {
      "image/png": "[encoded data removed]",
      "text/latex": [
       "$\\displaystyle B \\frac{d}{d t} y{\\left(t \\right)} + K y{\\left(t \\right)} + M \\frac{d^{2}}{d t^{2}} y{\\left(t \\right)} = 0$"
      ],
      "text/plain": [
       "                          2          \n",
       "  d                      d           \n",
       "B⋅──(y(t)) + K⋅y(t) + M⋅───(y(t)) = 0\n",
       "  dt                      2          \n",
       "                        dt           "
      ]
     },
     "execution_count": 6,
     "metadata": {},
     "output_type": "execute_result"
    }
   ],
   "source": [
    "ecuacion=sympy.Eq(M*y(t).diff(t,t)+B*y(t).diff(t)+K*y(t),0)\n",
    "ecuacion"
   ]
  },
  {
   "cell_type": "markdown",
   "id": "ee3d5782",
   "metadata": {},
   "source": [
    "Se resuelve la ecuación diferencial homogenea general"
   ]
  },
  {
   "cell_type": "code",
   "execution_count": 7,
   "id": "69016828",
   "metadata": {},
   "outputs": [
    {
     "data": {
      "image/png": "[encoded data removed]",
      "text/latex": [
       "$\\displaystyle y{\\left(t \\right)} = C_{1} e^{\\frac{t \\left(- B + \\sqrt{B^{2} - 4 K M}\\right)}{2 M}} + C_{2} e^{- \\frac{t \\left(B + \\sqrt{B^{2} - 4 K M}\\right)}{2 M}}$"
      ],
      "text/plain": [
       "             ⎛        ____________⎞          ⎛       ____________⎞ \n",
       "             ⎜       ╱  2         ⎟          ⎜      ╱  2         ⎟ \n",
       "           t⋅⎝-B + ╲╱  B  - 4⋅K⋅M ⎠       -t⋅⎝B + ╲╱  B  - 4⋅K⋅M ⎠ \n",
       "           ────────────────────────       ─────────────────────────\n",
       "                     2⋅M                             2⋅M           \n",
       "y(t) = C₁⋅ℯ                         + C₂⋅ℯ                         "
      ]
     },
     "execution_count": 7,
     "metadata": {},
     "output_type": "execute_result"
    }
   ],
   "source": [
    "sympy.dsolve(ecuacion,y(t))"
   ]
  },
  {
   "cell_type": "markdown",
   "id": "65737035",
   "metadata": {},
   "source": [
    "Ahora se resuelve la ecuación diferencial para el problema del valor inicial con $y(0)=y_{ini}$ de una manera larga (y no recomendada)"
   ]
  },
  {
   "cell_type": "code",
   "execution_count": 8,
   "id": "399ce61b",
   "metadata": {},
   "outputs": [
    {
     "data": {
      "image/png": "[encoded data removed]",
      "text/latex": [
       "$\\displaystyle C_{1} e^{\\frac{t \\left(- B + \\sqrt{B^{2} - 4 K M}\\right)}{2 M}} + C_{2} e^{- \\frac{t \\left(B + \\sqrt{B^{2} - 4 K M}\\right)}{2 M}}$"
      ],
      "text/plain": [
       "      ⎛        ____________⎞          ⎛       ____________⎞ \n",
       "      ⎜       ╱  2         ⎟          ⎜      ╱  2         ⎟ \n",
       "    t⋅⎝-B + ╲╱  B  - 4⋅K⋅M ⎠       -t⋅⎝B + ╲╱  B  - 4⋅K⋅M ⎠ \n",
       "    ────────────────────────       ─────────────────────────\n",
       "              2⋅M                             2⋅M           \n",
       "C₁⋅ℯ                         + C₂⋅ℯ                         "
      ]
     },
     "execution_count": 8,
     "metadata": {},
     "output_type": "execute_result"
    }
   ],
   "source": [
    "#Se toma el lado derecho de la solución\n",
    "ysol=sympy.dsolve(ecuacion,y(t)).rhs\n",
    "ysol"
   ]
  },
  {
   "cell_type": "code",
   "execution_count": 9,
   "id": "bbf20794",
   "metadata": {
    "scrolled": true
   },
   "outputs": [
    {
     "data": {
      "image/png": "[encoded data removed]",
      "text/latex": [
       "$\\displaystyle \\frac{C_{1} \\left(- B + \\sqrt{B^{2} - 4 K M}\\right) e^{\\frac{t \\left(- B + \\sqrt{B^{2} - 4 K M}\\right)}{2 M}}}{2 M} - \\frac{C_{2} \\left(B + \\sqrt{B^{2} - 4 K M}\\right) e^{- \\frac{t \\left(B + \\sqrt{B^{2} - 4 K M}\\right)}{2 M}}}{2 M}$"
      ],
      "text/plain": [
       "                             ⎛        ____________⎞                           \n",
       "                             ⎜       ╱  2         ⎟                           \n",
       "                           t⋅⎝-B + ╲╱  B  - 4⋅K⋅M ⎠                           \n",
       "   ⎛        ____________⎞  ────────────────────────      ⎛       ____________⎞\n",
       "   ⎜       ╱  2         ⎟            2⋅M                 ⎜      ╱  2         ⎟\n",
       "C₁⋅⎝-B + ╲╱  B  - 4⋅K⋅M ⎠⋅ℯ                           C₂⋅⎝B + ╲╱  B  - 4⋅K⋅M ⎠\n",
       "─────────────────────────────────────────────────── - ────────────────────────\n",
       "                        2⋅M                                                   \n",
       "\n",
       "     ⎛       ____________⎞ \n",
       "     ⎜      ╱  2         ⎟ \n",
       "  -t⋅⎝B + ╲╱  B  - 4⋅K⋅M ⎠ \n",
       "  ─────────────────────────\n",
       "             2⋅M           \n",
       "⋅ℯ                         \n",
       "───────────────────────────\n",
       "2⋅M                        "
      ]
     },
     "execution_count": 9,
     "metadata": {},
     "output_type": "execute_result"
    }
   ],
   "source": [
    "#La solución se deriva\n",
    "ydiffsol=ysol.diff(t)\n",
    "ydiffsol"
   ]
  },
  {
   "cell_type": "code",
   "execution_count": 10,
   "id": "64c62aec",
   "metadata": {},
   "outputs": [],
   "source": [
    "#para t=0, se tiene que\n",
    "y0=ysol.subs(t,0)\n",
    "ydiff0=ydiffsol.subs(t,0)"
   ]
  },
  {
   "cell_type": "code",
   "execution_count": 11,
   "id": "34ff1e50",
   "metadata": {},
   "outputs": [
    {
     "data": {
      "image/png": "[encoded data removed]",
      "text/latex": [
       "$\\displaystyle C_{1} + C_{2}$"
      ],
      "text/plain": [
       "C₁ + C₂"
      ]
     },
     "execution_count": 11,
     "metadata": {},
     "output_type": "execute_result"
    }
   ],
   "source": [
    "y0"
   ]
  },
  {
   "cell_type": "code",
   "execution_count": 12,
   "id": "0f58b3f6",
   "metadata": {},
   "outputs": [
    {
     "data": {
      "image/png": "[encoded data removed]",
      "text/latex": [
       "$\\displaystyle \\frac{C_{1} \\left(- B + \\sqrt{B^{2} - 4 K M}\\right)}{2 M} - \\frac{C_{2} \\left(B + \\sqrt{B^{2} - 4 K M}\\right)}{2 M}$"
      ],
      "text/plain": [
       "   ⎛        ____________⎞      ⎛       ____________⎞\n",
       "   ⎜       ╱  2         ⎟      ⎜      ╱  2         ⎟\n",
       "C₁⋅⎝-B + ╲╱  B  - 4⋅K⋅M ⎠   C₂⋅⎝B + ╲╱  B  - 4⋅K⋅M ⎠\n",
       "───────────────────────── - ────────────────────────\n",
       "           2⋅M                        2⋅M           "
      ]
     },
     "execution_count": 12,
     "metadata": {},
     "output_type": "execute_result"
    }
   ],
   "source": [
    "ydiff0"
   ]
  },
  {
   "cell_type": "code",
   "execution_count": 13,
   "id": "2d54abdf",
   "metadata": {},
   "outputs": [
    {
     "data": {
      "image/png": "[encoded data removed]",
      "text/latex": [
       "$\\displaystyle \\left\\{ C_{1} : \\frac{B yini}{2 \\sqrt{B^{2} - 4 K M}} + \\frac{yini}{2}, \\  C_{2} : - \\frac{B yini}{2 \\sqrt{B^{2} - 4 K M}} + \\frac{yini}{2}\\right\\}$"
      ],
      "text/plain": [
       "⎧          B⋅yini        yini              B⋅yini        yini⎫\n",
       "⎪C₁: ───────────────── + ────, C₂: - ───────────────── + ────⎪\n",
       "⎨         ____________    2               ____________    2  ⎬\n",
       "⎪        ╱  2                            ╱  2                ⎪\n",
       "⎩    2⋅╲╱  B  - 4⋅K⋅M                2⋅╲╱  B  - 4⋅K⋅M        ⎭"
      ]
     },
     "execution_count": 13,
     "metadata": {},
     "output_type": "execute_result"
    }
   ],
   "source": [
    "#ahora se resuelve el sistema de ecuaciones formado por y0=yini y dy/dt=0\n",
    "sympy.solve([y0-yini,ydiff0],y0.as_coeff_add()[1])"
   ]
  },
  {
   "cell_type": "code",
   "execution_count": 15,
   "id": "c212c2ee",
   "metadata": {},
   "outputs": [],
   "source": [
    "sympy.dsolve?"
   ]
  },
  {
   "cell_type": "markdown",
   "id": "30de904c",
   "metadata": {},
   "source": [
    "Ahora se resuelve la ecuación diferencial para el problema del valor inicial con  𝑦(0)=𝑦𝑖𝑛𝑖 usando las instrucciones de Sympy con condiciones iniciales."
   ]
  },
  {
   "cell_type": "code",
   "execution_count": 21,
   "id": "36390d4b",
   "metadata": {
    "scrolled": true
   },
   "outputs": [
    {
     "data": {
      "image/png": "[encoded data removed]",
      "text/latex": [
       "$\\displaystyle y{\\left(t \\right)} = \\left(- \\frac{B yini}{2 \\sqrt{B^{2} - 4 K M}} + \\frac{yini}{2}\\right) e^{- \\frac{t \\left(B + \\sqrt{B^{2} - 4 K M}\\right)}{2 M}} + \\left(\\frac{B yini}{2 \\sqrt{B^{2} - 4 K M}} + \\frac{yini}{2}\\right) e^{\\frac{t \\left(- B + \\sqrt{B^{2} - 4 K M}\\right)}{2 M}}$"
      ],
      "text/plain": [
       "                                        ⎛       ____________⎞                 \n",
       "                                        ⎜      ╱  2         ⎟                 \n",
       "                                     -t⋅⎝B + ╲╱  B  - 4⋅K⋅M ⎠                 \n",
       "                                     ─────────────────────────                \n",
       "       ⎛        B⋅yini        yini⎞             2⋅M              ⎛      B⋅yini\n",
       "y(t) = ⎜- ───────────────── + ────⎟⋅ℯ                          + ⎜────────────\n",
       "       ⎜       ____________    2  ⎟                              ⎜     _______\n",
       "       ⎜      ╱  2                ⎟                              ⎜    ╱  2    \n",
       "       ⎝  2⋅╲╱  B  - 4⋅K⋅M        ⎠                              ⎝2⋅╲╱  B  - 4\n",
       "\n",
       "                 ⎛        ____________⎞\n",
       "                 ⎜       ╱  2         ⎟\n",
       "               t⋅⎝-B + ╲╱  B  - 4⋅K⋅M ⎠\n",
       "               ────────────────────────\n",
       "        yini⎞            2⋅M           \n",
       "───── + ────⎟⋅ℯ                        \n",
       "_____    2  ⎟                          \n",
       "            ⎟                          \n",
       "⋅K⋅M        ⎠                          "
      ]
     },
     "execution_count": 21,
     "metadata": {},
     "output_type": "execute_result"
    }
   ],
   "source": [
    "ysol=sympy.dsolve(ecuacion,y(t),ics={y(0):yini,y(t).diff(t).subs(t,0):0})\n",
    "ysol"
   ]
  },
  {
   "cell_type": "code",
   "execution_count": 20,
   "id": "823f0d48",
   "metadata": {},
   "outputs": [],
   "source": [
    "sympy.plot?"
   ]
  },
  {
   "cell_type": "markdown",
   "id": "bf1783dc",
   "metadata": {},
   "source": [
    "Hagamos una gráfica de la solución anterior. Para ello, definamos valores numéricos de B, M, K y la condición inicial"
   ]
  },
  {
   "cell_type": "code",
   "execution_count": 29,
   "id": "b9313de2",
   "metadata": {},
   "outputs": [
    {
     "data": {
      "image/png": "[encoded data removed]",
      "text/latex": [
       "$\\displaystyle y{\\left(t \\right)} = \\left(5 - \\frac{5 \\sqrt{3} i}{3}\\right) e^{\\frac{t \\left(-1 + \\sqrt{3} i\\right)}{2}} + \\left(5 + \\frac{5 \\sqrt{3} i}{3}\\right) e^{- \\frac{t \\left(1 + \\sqrt{3} i\\right)}{2}}$"
      ],
      "text/plain": [
       "                     t⋅(-1 + √3⋅ⅈ)                 -t⋅(1 + √3⋅ⅈ) \n",
       "                     ─────────────                 ──────────────\n",
       "       ⎛    5⋅√3⋅ⅈ⎞        2         ⎛    5⋅√3⋅ⅈ⎞        2       \n",
       "y(t) = ⎜5 - ──────⎟⋅ℯ              + ⎜5 + ──────⎟⋅ℯ              \n",
       "       ⎝      3   ⎠                  ⎝      3   ⎠                "
      ]
     },
     "execution_count": 29,
     "metadata": {},
     "output_type": "execute_result"
    }
   ],
   "source": [
    "ysolesp = ysol.subs({B:1,M:1,K:1,yini:10})\n",
    "ysolesp"
   ]
  },
  {
   "cell_type": "code",
   "execution_count": 31,
   "id": "b78a7efe",
   "metadata": {},
   "outputs": [
    {
     "data": {
      "image/png": "[encoded data removed]",
      "text/plain": [
       "<Figure size 432x288 with 1 Axes>"
      ]
     },
     "metadata": {
      "needs_background": "light"
     },
     "output_type": "display_data"
    },
    {
     "data": {
      "text/plain": [
       "<sympy.plotting.plot.Plot at 0x2b9c6663e50>"
      ]
     },
     "execution_count": 31,
     "metadata": {},
     "output_type": "execute_result"
    }
   ],
   "source": [
    "sympy.plot(ysolesp.rhs,(t,0,10),title='Solución de la ecuacion diferencial',xlabel='t',ylabel='y(t)')"
   ]
  },
  {
   "cell_type": "code",
   "execution_count": null,
   "id": "5073209c",
   "metadata": {},
   "outputs": [],
   "source": []
  }
 ],
 "metadata": {
  "kernelspec": {
   "display_name": "Python 3 (ipykernel)",
   "language": "python",
   "name": "python3"
  },
  "language_info": {
   "codemirror_mode": {
    "name": "ipython",
    "version": 3
   },
   "file_extension": ".py",
   "mimetype": "text/x-python",
   "name": "python",
   "nbconvert_exporter": "python",
   "pygments_lexer": "ipython3",
   "version": "3.10.5"
  }
 },
 "nbformat": 4,
 "nbformat_minor": 5
}
