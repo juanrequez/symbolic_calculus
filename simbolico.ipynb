{
 "cells": [
  {
   "attachments": {},
   "cell_type": "markdown",
   "id": "2148bb2f",
   "metadata": {},
   "source": [
    "# Uso del módulo Sympy para cálculo simbólico\n",
    "### creado por Juan Pablo Requez - juanrequez@gmail.com\n",
    "---"
   ]
  },
  {
   "cell_type": "markdown",
   "id": "ea0bec52",
   "metadata": {},
   "source": [
    "Para iniciarlizar el sistema deben hacerse las importaciones necesarias"
   ]
  },
  {
   "cell_type": "code",
   "execution_count": 1,
   "id": "7d738c57",
   "metadata": {},
   "outputs": [],
   "source": [
    "import sympy\n",
    "from sympy import I, pi, oo"
   ]
  },
  {
   "cell_type": "markdown",
   "id": "4645ec4a",
   "metadata": {},
   "source": [
    "Es necesario inicializar la impresión de sympy en pantalla"
   ]
  },
  {
   "cell_type": "code",
   "execution_count": 2,
   "id": "35e47473",
   "metadata": {},
   "outputs": [],
   "source": [
    "sympy.init_printing()"
   ]
  },
  {
   "cell_type": "markdown",
   "id": "e814d933",
   "metadata": {},
   "source": [
    "Se crearán tres variables simbólicas de nombres x, y, z"
   ]
  },
  {
   "cell_type": "code",
   "execution_count": 3,
   "id": "01b66196",
   "metadata": {},
   "outputs": [],
   "source": [
    "#se usa Symbol para crear una sola variable\n",
    "x = sympy.Symbol(\"x\")\n",
    "# se usa symbols para crear varias variables simbólicas\n",
    "y,z =sympy.symbols(\"y,z\")"
   ]
  },
  {
   "cell_type": "code",
   "execution_count": 4,
   "id": "c804c872",
   "metadata": {},
   "outputs": [
    {
     "data": {
      "text/plain": [
       "sympy.core.symbol.Symbol"
      ]
     },
     "execution_count": 4,
     "metadata": {},
     "output_type": "execute_result"
    }
   ],
   "source": [
    "type(x)"
   ]
  },
  {
   "cell_type": "code",
   "execution_count": 5,
   "id": "78cbf71b",
   "metadata": {},
   "outputs": [
    {
     "data": {
      "text/plain": [
       "sympy.core.symbol.Symbol"
      ]
     },
     "execution_count": 5,
     "metadata": {},
     "output_type": "execute_result"
    }
   ],
   "source": [
    "type(z)"
   ]
  },
  {
   "cell_type": "markdown",
   "id": "437b9dcb",
   "metadata": {},
   "source": [
    "Se crearan tres variables simbólicas que son siempre positivas y reales\n"
   ]
  },
  {
   "cell_type": "code",
   "execution_count": 6,
   "id": "e6680689",
   "metadata": {},
   "outputs": [],
   "source": [
    "t,b,w = sympy.symbols(\"t,b,w\",positive=True)"
   ]
  },
  {
   "cell_type": "code",
   "execution_count": 7,
   "id": "af24ccc7",
   "metadata": {},
   "outputs": [
    {
     "data": {
      "text/plain": [
       "sympy.core.symbol.Symbol"
      ]
     },
     "execution_count": 7,
     "metadata": {},
     "output_type": "execute_result"
    }
   ],
   "source": [
    "type(t)"
   ]
  },
  {
   "cell_type": "code",
   "execution_count": 8,
   "id": "84a7adf8",
   "metadata": {},
   "outputs": [
    {
     "data": {
      "text/plain": [
       "True"
      ]
     },
     "execution_count": 8,
     "metadata": {},
     "output_type": "execute_result"
    }
   ],
   "source": [
    "t.is_real"
   ]
  },
  {
   "cell_type": "code",
   "execution_count": 9,
   "id": "df46b214",
   "metadata": {},
   "outputs": [
    {
     "data": {
      "text/plain": [
       "True"
      ]
     },
     "execution_count": 9,
     "metadata": {},
     "output_type": "execute_result"
    }
   ],
   "source": [
    "t.is_positive"
   ]
  },
  {
   "cell_type": "markdown",
   "id": "51514acb",
   "metadata": {},
   "source": [
    "No es lo mismo aplicar funciones a símbolos positivos que indefinidos:"
   ]
  },
  {
   "cell_type": "code",
   "execution_count": 10,
   "id": "cef16520",
   "metadata": {},
   "outputs": [
    {
     "data": {
      "image/png": "[encoded data removed]",
      "text/latex": [
       "$\\displaystyle \\sqrt{x^{2}}$"
      ],
      "text/plain": [
       "   ____\n",
       "  ╱  2 \n",
       "╲╱  x  "
      ]
     },
     "execution_count": 10,
     "metadata": {},
     "output_type": "execute_result"
    }
   ],
   "source": [
    "sympy.sqrt(x**2)\n"
   ]
  },
  {
   "cell_type": "code",
   "execution_count": 11,
   "id": "a9bff4e1",
   "metadata": {},
   "outputs": [
    {
     "data": {
      "image/png": "[encoded data removed]",
      "text/latex": [
       "$\\displaystyle t$"
      ],
      "text/plain": [
       "t"
      ]
     },
     "execution_count": 11,
     "metadata": {},
     "output_type": "execute_result"
    }
   ],
   "source": [
    "sympy.sqrt(t**2)"
   ]
  },
  {
   "cell_type": "markdown",
   "id": "56d5f338",
   "metadata": {},
   "source": [
    "### manipulación de expresiones"
   ]
  },
  {
   "cell_type": "markdown",
   "id": "9f50bf90",
   "metadata": {},
   "source": [
    "simplificar expresiones"
   ]
  },
  {
   "cell_type": "code",
   "execution_count": 12,
   "id": "4d377fd4",
   "metadata": {},
   "outputs": [
    {
     "data": {
      "image/png": "[encoded data removed]",
      "text/latex": [
       "$\\displaystyle x \\left(x + 1\\right) + x \\left(5 x - 5\\right)$"
      ],
      "text/plain": [
       "x⋅(x + 1) + x⋅(5⋅x - 5)"
      ]
     },
     "execution_count": 12,
     "metadata": {},
     "output_type": "execute_result"
    }
   ],
   "source": [
    "#una expresión con términos del mismo grado no simplficados\n",
    "expresion1=(x+1)*x+(x-1)*5*x\n",
    "expresion1"
   ]
  },
  {
   "cell_type": "code",
   "execution_count": 13,
   "id": "59536e83",
   "metadata": {},
   "outputs": [
    {
     "data": {
      "image/png": "[encoded data removed]",
      "text/latex": [
       "$\\displaystyle 2 x \\left(3 x - 2\\right)$"
      ],
      "text/plain": [
       "2⋅x⋅(3⋅x - 2)"
      ]
     },
     "execution_count": 13,
     "metadata": {},
     "output_type": "execute_result"
    }
   ],
   "source": [
    "sympy.simplify(expresion1)"
   ]
  },
  {
   "cell_type": "code",
   "execution_count": 14,
   "id": "02ba8dc0",
   "metadata": {},
   "outputs": [
    {
     "data": {
      "image/png": "[encoded data removed]",
      "text/latex": [
       "$\\displaystyle \\sin^{2}{\\left(x \\right)} + \\cos^{2}{\\left(x \\right)}$"
      ],
      "text/plain": [
       "   2         2   \n",
       "sin (x) + cos (x)"
      ]
     },
     "execution_count": 14,
     "metadata": {},
     "output_type": "execute_result"
    }
   ],
   "source": [
    "#Una expresión con funciones trigonométricas no simplificadas\n",
    "expresion2=sympy.sin(x)**2+sympy.cos(x)**2\n",
    "expresion2"
   ]
  },
  {
   "cell_type": "code",
   "execution_count": 15,
   "id": "6a57458c",
   "metadata": {},
   "outputs": [
    {
     "data": {
      "image/png": "[encoded data removed]",
      "text/latex": [
       "$\\displaystyle 1$"
      ],
      "text/plain": [
       "1"
      ]
     },
     "execution_count": 15,
     "metadata": {},
     "output_type": "execute_result"
    }
   ],
   "source": [
    "sympy.trigsimp(expresion2)"
   ]
  },
  {
   "cell_type": "code",
   "execution_count": 16,
   "id": "195f7a15",
   "metadata": {},
   "outputs": [
    {
     "data": {
      "image/png": "[encoded data removed]",
      "text/latex": [
       "$\\displaystyle x \\left(x + 1\\right) + x \\left(5 x - 5\\right)$"
      ],
      "text/plain": [
       "x⋅(x + 1) + x⋅(5⋅x - 5)"
      ]
     },
     "execution_count": 16,
     "metadata": {},
     "output_type": "execute_result"
    }
   ],
   "source": [
    "expresion1"
   ]
  },
  {
   "cell_type": "code",
   "execution_count": 17,
   "id": "4865ba92",
   "metadata": {},
   "outputs": [
    {
     "data": {
      "image/png": "[encoded data removed]",
      "text/latex": [
       "$\\displaystyle 6 x^{2} - 4 x$"
      ],
      "text/plain": [
       "   2      \n",
       "6⋅x  - 4⋅x"
      ]
     },
     "execution_count": 17,
     "metadata": {},
     "output_type": "execute_result"
    }
   ],
   "source": [
    "sympy.expand(expresion1)"
   ]
  },
  {
   "cell_type": "code",
   "execution_count": 18,
   "id": "b4177072",
   "metadata": {},
   "outputs": [
    {
     "data": {
      "image/png": "[encoded data removed]",
      "text/latex": [
       "$\\displaystyle \\sin{\\left(x + y \\right)}$"
      ],
      "text/plain": [
       "sin(x + y)"
      ]
     },
     "execution_count": 18,
     "metadata": {},
     "output_type": "execute_result"
    }
   ],
   "source": [
    "#se crea una expresión del seno de la suma de ángulos\n",
    "expresion3=sympy.sin(x+y)\n",
    "expresion3"
   ]
  },
  {
   "cell_type": "code",
   "execution_count": 19,
   "id": "9d19f364",
   "metadata": {},
   "outputs": [
    {
     "data": {
      "image/png": "[encoded data removed]",
      "text/latex": [
       "$\\displaystyle \\sin{\\left(x + y \\right)}$"
      ],
      "text/plain": [
       "sin(x + y)"
      ]
     },
     "execution_count": 19,
     "metadata": {},
     "output_type": "execute_result"
    }
   ],
   "source": [
    "#si se intenta expandir esta expresión, la expansión no hará nada\n",
    "sympy.expand(expresion3)"
   ]
  },
  {
   "cell_type": "code",
   "execution_count": 20,
   "id": "f203168e",
   "metadata": {},
   "outputs": [
    {
     "data": {
      "image/png": "[encoded data removed]",
      "text/latex": [
       "$\\displaystyle \\sin{\\left(x \\right)} \\cos{\\left(y \\right)} + \\sin{\\left(y \\right)} \\cos{\\left(x \\right)}$"
      ],
      "text/plain": [
       "sin(x)⋅cos(y) + sin(y)⋅cos(x)"
      ]
     },
     "execution_count": 20,
     "metadata": {},
     "output_type": "execute_result"
    }
   ],
   "source": [
    "#Se expande la expresión usando la fórmula del seno de la suma\n",
    "sympy.expand(expresion3,trig=True)"
   ]
  },
  {
   "cell_type": "markdown",
   "id": "0ea2e880",
   "metadata": {},
   "source": [
    "Fracciones parciales.\n",
    "\n",
    "Es importante notar que muchas de las funciones indicadas tambien son métodos de los objetos simbólicos"
   ]
  },
  {
   "cell_type": "code",
   "execution_count": 21,
   "id": "3ec1bba3",
   "metadata": {},
   "outputs": [
    {
     "data": {
      "image/png": "[encoded data removed]",
      "text/latex": [
       "$\\displaystyle \\frac{3 x + 1}{x^{2} + 5 x + 6}$"
      ],
      "text/plain": [
       "  3⋅x + 1   \n",
       "────────────\n",
       " 2          \n",
       "x  + 5⋅x + 6"
      ]
     },
     "execution_count": 21,
     "metadata": {},
     "output_type": "execute_result"
    }
   ],
   "source": [
    "fraccion=(3*x+1)/(x**2+5*x+6)\n",
    "fraccion"
   ]
  },
  {
   "cell_type": "code",
   "execution_count": 22,
   "id": "46a0be99",
   "metadata": {},
   "outputs": [
    {
     "data": {
      "image/png": "[encoded data removed]",
      "text/latex": [
       "$\\displaystyle \\frac{8}{x + 3} - \\frac{5}{x + 2}$"
      ],
      "text/plain": [
       "  8       5  \n",
       "───── - ─────\n",
       "x + 3   x + 2"
      ]
     },
     "execution_count": 22,
     "metadata": {},
     "output_type": "execute_result"
    }
   ],
   "source": [
    "#fracciones parciales usando una función\n",
    "sympy.apart(fraccion)"
   ]
  },
  {
   "cell_type": "code",
   "execution_count": 23,
   "id": "87c30fe1",
   "metadata": {},
   "outputs": [
    {
     "data": {
      "image/png": "[encoded data removed]",
      "text/latex": [
       "$\\displaystyle \\frac{3 x + 1}{x^{2} + 5 x + 6}$"
      ],
      "text/plain": [
       "  3⋅x + 1   \n",
       "────────────\n",
       " 2          \n",
       "x  + 5⋅x + 6"
      ]
     },
     "execution_count": 23,
     "metadata": {},
     "output_type": "execute_result"
    }
   ],
   "source": [
    "fraccion"
   ]
  },
  {
   "cell_type": "code",
   "execution_count": 24,
   "id": "170133d2",
   "metadata": {},
   "outputs": [
    {
     "data": {
      "image/png": "[encoded data removed]",
      "text/latex": [
       "$\\displaystyle \\frac{8}{x + 3} - \\frac{5}{x + 2}$"
      ],
      "text/plain": [
       "  8       5  \n",
       "───── - ─────\n",
       "x + 3   x + 2"
      ]
     },
     "execution_count": 24,
     "metadata": {},
     "output_type": "execute_result"
    }
   ],
   "source": [
    "#fracciones parciales usando el método del objeto\n",
    "fraccion.apart()"
   ]
  },
  {
   "cell_type": "markdown",
   "id": "0be42b64",
   "metadata": {},
   "source": [
    "Sustituciones"
   ]
  },
  {
   "cell_type": "code",
   "execution_count": 25,
   "id": "9df1176b",
   "metadata": {},
   "outputs": [
    {
     "data": {
      "image/png": "[encoded data removed]",
      "text/latex": [
       "$\\displaystyle \\sin{\\left(x e^{x} \\right)}$"
      ],
      "text/plain": [
       "   ⎛   x⎞\n",
       "sin⎝x⋅ℯ ⎠"
      ]
     },
     "execution_count": 25,
     "metadata": {},
     "output_type": "execute_result"
    }
   ],
   "source": [
    "expresion4=sympy.sin(x*sympy.exp(x))\n",
    "expresion4"
   ]
  },
  {
   "cell_type": "code",
   "execution_count": 26,
   "id": "11c1a013",
   "metadata": {},
   "outputs": [
    {
     "data": {
      "image/png": "[encoded data removed]",
      "text/latex": [
       "$\\displaystyle \\sin{\\left(y^{2} e^{y^{2}} \\right)}$"
      ],
      "text/plain": [
       "   ⎛    ⎛ 2⎞⎞\n",
       "   ⎜ 2  ⎝y ⎠⎟\n",
       "sin⎝y ⋅ℯ    ⎠"
      ]
     },
     "execution_count": 26,
     "metadata": {},
     "output_type": "execute_result"
    }
   ],
   "source": [
    "#se desea sustituir x por y^2\n",
    "expresion4.subs(x,y**2)"
   ]
  },
  {
   "cell_type": "code",
   "execution_count": 27,
   "id": "01cbb054",
   "metadata": {},
   "outputs": [
    {
     "data": {
      "image/png": "[encoded data removed]",
      "text/latex": [
       "$\\displaystyle 0.393979828928715$"
      ],
      "text/plain": [
       "0.393979828928715"
      ]
     },
     "execution_count": 27,
     "metadata": {},
     "output_type": "execute_result"
    }
   ],
   "source": [
    "#tambien pueden sustituirse valores\n",
    "expresion4.subs(x,0.3)"
   ]
  },
  {
   "cell_type": "markdown",
   "id": "2a9a8980",
   "metadata": {},
   "source": [
    "### Evaluación numérica\n",
    "Evaluar numéricamente las siguientes expresiones\n"
   ]
  },
  {
   "cell_type": "code",
   "execution_count": 28,
   "id": "e5c0278e",
   "metadata": {},
   "outputs": [
    {
     "data": {
      "image/png": "[encoded data removed]",
      "text/latex": [
       "$\\displaystyle b t + \\frac{\\sqrt{2}}{2}$"
      ],
      "text/plain": [
       "      √2\n",
       "b⋅t + ──\n",
       "      2 "
      ]
     },
     "execution_count": 28,
     "metadata": {},
     "output_type": "execute_result"
    }
   ],
   "source": [
    "expresion5=t*b+sympy.sin(pi/4)\n",
    "expresion5"
   ]
  },
  {
   "cell_type": "code",
   "execution_count": 29,
   "id": "8a81e694",
   "metadata": {},
   "outputs": [
    {
     "data": {
      "image/png": "[encoded data removed]",
      "text/latex": [
       "$\\displaystyle - b t + \\log{\\left(\\frac{3}{2} \\right)}$"
      ],
      "text/plain": [
       "-b⋅t + log(3/2)"
      ]
     },
     "execution_count": 29,
     "metadata": {},
     "output_type": "execute_result"
    }
   ],
   "source": [
    "expresion6=-t*b+sympy.log(sympy.Rational(3/2))\n",
    "expresion6"
   ]
  },
  {
   "cell_type": "code",
   "execution_count": 30,
   "id": "9a511cf0",
   "metadata": {},
   "outputs": [
    {
     "data": {
      "image/png": "[encoded data removed]",
      "text/latex": [
       "$\\displaystyle b t + 0.707106781186548$"
      ],
      "text/plain": [
       "b⋅t + 0.707106781186548"
      ]
     },
     "execution_count": 30,
     "metadata": {},
     "output_type": "execute_result"
    }
   ],
   "source": [
    "expresion5.evalf()"
   ]
  },
  {
   "cell_type": "code",
   "execution_count": 31,
   "id": "7d7b5f8d",
   "metadata": {},
   "outputs": [
    {
     "data": {
      "image/png": "[encoded data removed]",
      "text/latex": [
       "$\\displaystyle - b t + 0.405465108108164$"
      ],
      "text/plain": [
       "-b⋅t + 0.405465108108164"
      ]
     },
     "execution_count": 31,
     "metadata": {},
     "output_type": "execute_result"
    }
   ],
   "source": [
    "sympy.N(expresion6)"
   ]
  },
  {
   "cell_type": "markdown",
   "id": "ecc152ff",
   "metadata": {},
   "source": [
    "### Funciones en sympy"
   ]
  },
  {
   "cell_type": "code",
   "execution_count": 32,
   "id": "a0150819",
   "metadata": {},
   "outputs": [
    {
     "data": {
      "text/plain": [
       "f"
      ]
     },
     "execution_count": 32,
     "metadata": {},
     "output_type": "execute_result"
    }
   ],
   "source": [
    "#esta función está no definida, es decir, es una función abstracta\n",
    "f=sympy.Function(\"f\")\n",
    "f"
   ]
  },
  {
   "cell_type": "code",
   "execution_count": 33,
   "id": "5b625494",
   "metadata": {},
   "outputs": [
    {
     "data": {
      "text/plain": [
       "sympy.core.function.UndefinedFunction"
      ]
     },
     "execution_count": 33,
     "metadata": {},
     "output_type": "execute_result"
    }
   ],
   "source": [
    "type(f)"
   ]
  },
  {
   "cell_type": "code",
   "execution_count": 34,
   "id": "ddf5a8ed",
   "metadata": {},
   "outputs": [
    {
     "data": {
      "image/png": "[encoded data removed]",
      "text/latex": [
       "$\\displaystyle f{\\left(x \\right)}$"
      ],
      "text/plain": [
       "f(x)"
      ]
     },
     "execution_count": 34,
     "metadata": {},
     "output_type": "execute_result"
    }
   ],
   "source": [
    "#Se le aplica un argumento a la función\n",
    "f(x)"
   ]
  },
  {
   "cell_type": "markdown",
   "id": "b1d00cf1",
   "metadata": {},
   "source": [
    "### Calculo simbólico \n",
    "#### Derivadas"
   ]
  },
  {
   "cell_type": "code",
   "execution_count": 35,
   "id": "e2914ee3",
   "metadata": {},
   "outputs": [
    {
     "data": {
      "image/png": "[encoded data removed]",
      "text/latex": [
       "$\\displaystyle g{\\left(x,y \\right)}$"
      ],
      "text/plain": [
       "g(x, y)"
      ]
     },
     "execution_count": 35,
     "metadata": {},
     "output_type": "execute_result"
    }
   ],
   "source": [
    "#Para una función anónima que depende de x,y\n",
    "g=sympy.Function('g')(x,y)\n",
    "g"
   ]
  },
  {
   "cell_type": "code",
   "execution_count": 36,
   "id": "140a2c73",
   "metadata": {},
   "outputs": [
    {
     "data": {
      "image/png": "[encoded data removed]",
      "text/latex": [
       "$\\displaystyle \\frac{\\partial^{2}}{\\partial y\\partial x} g{\\left(x,y \\right)}$"
      ],
      "text/plain": [
       "   2          \n",
       "  ∂           \n",
       "─────(g(x, y))\n",
       "∂y ∂x         "
      ]
     },
     "execution_count": 36,
     "metadata": {},
     "output_type": "execute_result"
    }
   ],
   "source": [
    "g.diff(x,y)"
   ]
  },
  {
   "cell_type": "code",
   "execution_count": 37,
   "id": "e5814ee3",
   "metadata": {},
   "outputs": [
    {
     "data": {
      "image/png": "[encoded data removed]",
      "text/latex": [
       "$\\displaystyle \\frac{\\partial}{\\partial x} g{\\left(x,y \\right)}$"
      ],
      "text/plain": [
       "∂          \n",
       "──(g(x, y))\n",
       "∂x         "
      ]
     },
     "execution_count": 37,
     "metadata": {},
     "output_type": "execute_result"
    }
   ],
   "source": [
    "g.diff(x)"
   ]
  },
  {
   "cell_type": "code",
   "execution_count": 38,
   "id": "46d8f799",
   "metadata": {},
   "outputs": [
    {
     "data": {
      "image/png": "[encoded data removed]",
      "text/latex": [
       "$\\displaystyle \\frac{\\partial^{4}}{\\partial y^{2}\\partial x^{2}} g{\\left(x,y \\right)}$"
      ],
      "text/plain": [
       "    4           \n",
       "   ∂            \n",
       "───────(g(x, y))\n",
       "  2   2         \n",
       "∂y  ∂x          "
      ]
     },
     "execution_count": 38,
     "metadata": {},
     "output_type": "execute_result"
    }
   ],
   "source": [
    "g.diff(x,y,x,y)"
   ]
  },
  {
   "cell_type": "code",
   "execution_count": 39,
   "id": "ff9641bf",
   "metadata": {},
   "outputs": [
    {
     "data": {
      "image/png": "[encoded data removed]",
      "text/latex": [
       "$\\displaystyle 3 t e^{- b t} + 2 e^{- 2 b t}$"
      ],
      "text/plain": [
       "     -b⋅t      -2⋅b⋅t\n",
       "3⋅t⋅ℯ     + 2⋅ℯ      "
      ]
     },
     "execution_count": 39,
     "metadata": {},
     "output_type": "execute_result"
    }
   ],
   "source": [
    "#para una expresión de x, por ejemplo\n",
    "modelo=2*sympy.exp(-2*b*t)+3*t*sympy.exp(-b*t)\n",
    "modelo"
   ]
  },
  {
   "cell_type": "code",
   "execution_count": 40,
   "id": "df0ce738",
   "metadata": {},
   "outputs": [
    {
     "data": {
      "image/png": "[encoded data removed]",
      "text/latex": [
       "$\\displaystyle - 3 b t e^{- b t} - 4 b e^{- 2 b t} + 3 e^{- b t}$"
      ],
      "text/plain": [
       "         -b⋅t        -2⋅b⋅t      -b⋅t\n",
       "- 3⋅b⋅t⋅ℯ     - 4⋅b⋅ℯ       + 3⋅ℯ    "
      ]
     },
     "execution_count": 40,
     "metadata": {},
     "output_type": "execute_result"
    }
   ],
   "source": [
    "sympy.diff(modelo,t)"
   ]
  },
  {
   "cell_type": "code",
   "execution_count": 41,
   "id": "ddd6c94e",
   "metadata": {},
   "outputs": [
    {
     "data": {
      "image/png": "[encoded data removed]",
      "text/latex": [
       "$\\displaystyle - 3 t^{2} e^{- b t} - 4 t e^{- 2 b t}$"
      ],
      "text/plain": [
       "     2  -b⋅t        -2⋅b⋅t\n",
       "- 3⋅t ⋅ℯ     - 4⋅t⋅ℯ      "
      ]
     },
     "execution_count": 41,
     "metadata": {},
     "output_type": "execute_result"
    }
   ],
   "source": [
    "modelo.diff(b)"
   ]
  },
  {
   "cell_type": "markdown",
   "id": "b311541e",
   "metadata": {},
   "source": [
    "#### integrales"
   ]
  },
  {
   "cell_type": "code",
   "execution_count": 42,
   "id": "b39ae14d",
   "metadata": {},
   "outputs": [
    {
     "data": {
      "image/png": "[encoded data removed]",
      "text/latex": [
       "$\\displaystyle \\int\\limits_{- b}^{b} f{\\left(x \\right)}\\, dx$"
      ],
      "text/plain": [
       "b         \n",
       "⌠         \n",
       "⎮  f(x) dx\n",
       "⌡         \n",
       "-b        "
      ]
     },
     "execution_count": 42,
     "metadata": {},
     "output_type": "execute_result"
    }
   ],
   "source": [
    "#definamos una función abstracta\n",
    "f=sympy.Function('f')(x)\n",
    "#calculemos su derivada\n",
    "sympy.integrate(f,(x,-b,b))"
   ]
  },
  {
   "cell_type": "code",
   "execution_count": 43,
   "id": "eeea164a",
   "metadata": {},
   "outputs": [
    {
     "data": {
      "image/png": "[encoded data removed]",
      "text/latex": [
       "$\\displaystyle - \\cos{\\left(x \\right)}$"
      ],
      "text/plain": [
       "-cos(x)"
      ]
     },
     "execution_count": 43,
     "metadata": {},
     "output_type": "execute_result"
    }
   ],
   "source": [
    "#podemos buscar la integral de una función definida\n",
    "sympy.integrate(sympy.sin(x))"
   ]
  },
  {
   "cell_type": "code",
   "execution_count": 44,
   "id": "c5091b0e",
   "metadata": {},
   "outputs": [
    {
     "data": {
      "image/png": "[encoded data removed]",
      "text/latex": [
       "$\\displaystyle \\frac{1}{2}$"
      ],
      "text/plain": [
       "1/2"
      ]
     },
     "execution_count": 44,
     "metadata": {},
     "output_type": "execute_result"
    }
   ],
   "source": [
    "sympy.integrate(sympy.sin(x)*sympy.exp(-x),(x,0,oo))"
   ]
  },
  {
   "cell_type": "code",
   "execution_count": 45,
   "id": "446a2a90",
   "metadata": {},
   "outputs": [
    {
     "data": {
      "image/png": "[encoded data removed]",
      "text/latex": [
       "$\\displaystyle e^{- x} \\sin{\\left(x \\right)}$"
      ],
      "text/plain": [
       " -x       \n",
       "ℯ  ⋅sin(x)"
      ]
     },
     "execution_count": 45,
     "metadata": {},
     "output_type": "execute_result"
    }
   ],
   "source": [
    "integrando=sympy.sin(x)*sympy.exp(-x)\n",
    "integrando"
   ]
  },
  {
   "cell_type": "code",
   "execution_count": 46,
   "id": "66524e3d",
   "metadata": {},
   "outputs": [
    {
     "data": {
      "image/png": "[encoded data removed]",
      "text/latex": [
       "$\\displaystyle \\frac{1}{2}$"
      ],
      "text/plain": [
       "1/2"
      ]
     },
     "execution_count": 46,
     "metadata": {},
     "output_type": "execute_result"
    }
   ],
   "source": [
    "integrando.integrate((x,0,oo))"
   ]
  },
  {
   "cell_type": "markdown",
   "id": "c22e9acc",
   "metadata": {},
   "source": [
    "#### Integrales y derivadas postergadas"
   ]
  },
  {
   "cell_type": "code",
   "execution_count": 47,
   "id": "ed3b6ca4",
   "metadata": {},
   "outputs": [
    {
     "data": {
      "image/png": "[encoded data removed]",
      "text/latex": [
       "$\\displaystyle 3 x^{2} + 5 x + 4$"
      ],
      "text/plain": [
       "   2          \n",
       "3⋅x  + 5⋅x + 4"
      ]
     },
     "execution_count": 47,
     "metadata": {},
     "output_type": "execute_result"
    }
   ],
   "source": [
    "#se define una expresión simbólica\n",
    "f=3*x**2+5*x+4\n",
    "f"
   ]
  },
  {
   "cell_type": "code",
   "execution_count": 48,
   "id": "8b80ebd3",
   "metadata": {},
   "outputs": [
    {
     "data": {
      "image/png": "[encoded data removed]",
      "text/latex": [
       "$\\displaystyle \\frac{d}{d x} \\left(3 x^{2} + 5 x + 4\\right)$"
      ],
      "text/plain": [
       "d ⎛   2          ⎞\n",
       "──⎝3⋅x  + 5⋅x + 4⎠\n",
       "dx                "
      ]
     },
     "execution_count": 48,
     "metadata": {},
     "output_type": "execute_result"
    }
   ],
   "source": [
    "#indicamos la derivada\n",
    "df=sympy.Derivative(f,x)\n",
    "df"
   ]
  },
  {
   "cell_type": "code",
   "execution_count": 49,
   "id": "8d570faa",
   "metadata": {},
   "outputs": [
    {
     "data": {
      "image/png": "[encoded data removed]",
      "text/latex": [
       "$\\displaystyle \\int \\left(3 x^{2} + 5 x + 4\\right)\\, dx$"
      ],
      "text/plain": [
       "⌠                    \n",
       "⎮ ⎛   2          ⎞   \n",
       "⎮ ⎝3⋅x  + 5⋅x + 4⎠ dx\n",
       "⌡                    "
      ]
     },
     "execution_count": 49,
     "metadata": {},
     "output_type": "execute_result"
    }
   ],
   "source": [
    "#indicamos la integral\n",
    "af=sympy.Integral(f,x)\n",
    "af"
   ]
  },
  {
   "cell_type": "code",
   "execution_count": 50,
   "id": "2695e115",
   "metadata": {},
   "outputs": [
    {
     "data": {
      "image/png": "[encoded data removed]",
      "text/latex": [
       "$\\displaystyle 6 x + 5$"
      ],
      "text/plain": [
       "6⋅x + 5"
      ]
     },
     "execution_count": 50,
     "metadata": {},
     "output_type": "execute_result"
    }
   ],
   "source": [
    "#evaluamos la derivada\n",
    "df.doit()"
   ]
  },
  {
   "cell_type": "code",
   "execution_count": 51,
   "id": "755fb829",
   "metadata": {},
   "outputs": [
    {
     "data": {
      "image/png": "[encoded data removed]",
      "text/latex": [
       "$\\displaystyle x^{3} + \\frac{5 x^{2}}{2} + 4 x$"
      ],
      "text/plain": [
       "        2      \n",
       " 3   5⋅x       \n",
       "x  + ──── + 4⋅x\n",
       "      2        "
      ]
     },
     "execution_count": 51,
     "metadata": {},
     "output_type": "execute_result"
    }
   ],
   "source": [
    "af.doit()"
   ]
  },
  {
   "cell_type": "markdown",
   "id": "14aef980",
   "metadata": {},
   "source": [
    "#### Límites"
   ]
  },
  {
   "cell_type": "code",
   "execution_count": 52,
   "id": "f5d09a19",
   "metadata": {},
   "outputs": [
    {
     "data": {
      "image/png": "[encoded data removed]",
      "text/latex": [
       "$\\displaystyle e^{- b t}$"
      ],
      "text/plain": [
       " -b⋅t\n",
       "ℯ    "
      ]
     },
     "execution_count": 52,
     "metadata": {},
     "output_type": "execute_result"
    }
   ],
   "source": [
    "#Se define una función exponencial para calcular el límite\n",
    "argumento=sympy.exp(-b*t)\n",
    "argumento"
   ]
  },
  {
   "cell_type": "code",
   "execution_count": 53,
   "id": "9f5fc256",
   "metadata": {},
   "outputs": [
    {
     "data": {
      "image/png": "[encoded data removed]",
      "text/latex": [
       "$\\displaystyle 0$"
      ],
      "text/plain": [
       "0"
      ]
     },
     "execution_count": 53,
     "metadata": {},
     "output_type": "execute_result"
    }
   ],
   "source": [
    "sympy.limit(argumento,t,oo)"
   ]
  },
  {
   "cell_type": "code",
   "execution_count": 54,
   "id": "200c8dbc",
   "metadata": {},
   "outputs": [
    {
     "data": {
      "image/png": "[encoded data removed]",
      "text/latex": [
       "$\\displaystyle \\lim_{t \\to \\infty} e^{- b t}$"
      ],
      "text/plain": [
       "     -b⋅t\n",
       "lim ℯ    \n",
       "t─→∞     "
      ]
     },
     "execution_count": 54,
     "metadata": {},
     "output_type": "execute_result"
    }
   ],
   "source": [
    "#se pudo hacer con la derivada indicada y no evaluada\n",
    "L=sympy.Limit(argumento,t,oo)\n",
    "L"
   ]
  },
  {
   "cell_type": "code",
   "execution_count": 55,
   "id": "c1604a47",
   "metadata": {},
   "outputs": [
    {
     "data": {
      "image/png": "[encoded data removed]",
      "text/latex": [
       "$\\displaystyle 0$"
      ],
      "text/plain": [
       "0"
      ]
     },
     "execution_count": 55,
     "metadata": {},
     "output_type": "execute_result"
    }
   ],
   "source": [
    "L.doit()"
   ]
  },
  {
   "cell_type": "markdown",
   "id": "06f3e8ad",
   "metadata": {},
   "source": [
    "### Series, sumas y productos"
   ]
  },
  {
   "cell_type": "code",
   "execution_count": 56,
   "id": "58334fe5",
   "metadata": {},
   "outputs": [
    {
     "data": {
      "image/png": "[encoded data removed]",
      "text/latex": [
       "$\\displaystyle 1 + e^{- b} + e^{- 2 b} + e^{- 3 b} + e^{- 4 b} + e^{- 5 b} + e^{- 6 b} + e^{- 7 b} + e^{- 8 b} + e^{- 9 b} + e^{- 10 b}$"
      ],
      "text/plain": [
       "     -b    -2⋅b    -3⋅b    -4⋅b    -5⋅b    -6⋅b    -7⋅b    -8⋅b    -9⋅b    -10\n",
       "1 + ℯ   + ℯ     + ℯ     + ℯ     + ℯ     + ℯ     + ℯ     + ℯ     + ℯ     + ℯ   \n",
       "\n",
       "⋅b\n",
       "  "
      ]
     },
     "execution_count": 56,
     "metadata": {},
     "output_type": "execute_result"
    }
   ],
   "source": [
    "sympy.summation(argumento,(t,0,10))\n"
   ]
  },
  {
   "cell_type": "code",
   "execution_count": 57,
   "id": "85144206",
   "metadata": {},
   "outputs": [
    {
     "data": {
      "image/png": "[encoded data removed]",
      "text/latex": [
       "$\\displaystyle e^{- 55 b}$"
      ],
      "text/plain": [
       " -55⋅b\n",
       "ℯ     "
      ]
     },
     "execution_count": 57,
     "metadata": {},
     "output_type": "execute_result"
    }
   ],
   "source": [
    "sympy.product(argumento,(t,0,10))"
   ]
  },
  {
   "cell_type": "markdown",
   "id": "e723a6d7",
   "metadata": {},
   "source": [
    "### Transformada de Laplace y de Fourier\n",
    "Se calcula transformada de laplace y de Fourier de dos funciones"
   ]
  },
  {
   "cell_type": "code",
   "execution_count": 58,
   "id": "ebd1a2fc",
   "metadata": {},
   "outputs": [
    {
     "data": {
      "image/png": "[encoded data removed]",
      "text/latex": [
       "$\\displaystyle e^{- b t}$"
      ],
      "text/plain": [
       " -b⋅t\n",
       "ℯ    "
      ]
     },
     "execution_count": 58,
     "metadata": {},
     "output_type": "execute_result"
    }
   ],
   "source": [
    "argumento"
   ]
  },
  {
   "cell_type": "code",
   "execution_count": 59,
   "id": "e1f76427",
   "metadata": {},
   "outputs": [
    {
     "data": {
      "text/latex": [
       "$\\displaystyle \\left( \\frac{1}{b + s}, \\  - b, \\  \\text{True}\\right)$"
      ],
      "text/plain": [
       "⎛  1            ⎞\n",
       "⎜─────, -b, True⎟\n",
       "⎝b + s          ⎠"
      ]
     },
     "execution_count": 59,
     "metadata": {},
     "output_type": "execute_result"
    }
   ],
   "source": [
    "#es necesario definir la variable compleja z, s y W\n",
    "s,z,w=sympy.symbols(\"s,z,w\",complex=True)\n",
    "sympy.laplace_transform(argumento,t,s)"
   ]
  },
  {
   "cell_type": "code",
   "execution_count": 60,
   "id": "815f2e70",
   "metadata": {},
   "outputs": [
    {
     "data": {
      "image/png": "[encoded data removed]",
      "text/latex": [
       "$\\displaystyle e^{- t^{2}}$"
      ],
      "text/plain": [
       "   2\n",
       " -t \n",
       "ℯ   "
      ]
     },
     "execution_count": 60,
     "metadata": {},
     "output_type": "execute_result"
    }
   ],
   "source": [
    "argumento2=sympy.exp(-t**2)\n",
    "argumento2"
   ]
  },
  {
   "cell_type": "code",
   "execution_count": 61,
   "id": "ae4dc596",
   "metadata": {},
   "outputs": [
    {
     "data": {
      "image/png": "[encoded data removed]",
      "text/latex": [
       "$\\displaystyle \\sqrt{\\pi} e^{- \\pi^{2} w^{2}}$"
      ],
      "text/plain": [
       "      2  2\n",
       "    -π ⋅w \n",
       "√π⋅ℯ      "
      ]
     },
     "execution_count": 61,
     "metadata": {},
     "output_type": "execute_result"
    }
   ],
   "source": [
    "sympy.fourier_transform(argumento2,t,w)"
   ]
  },
  {
   "cell_type": "markdown",
   "id": "07791dc3",
   "metadata": {},
   "source": [
    "### Ecuaciones y sistemas de ecuaciones\n"
   ]
  },
  {
   "cell_type": "code",
   "execution_count": 62,
   "id": "37f9aefc",
   "metadata": {},
   "outputs": [
    {
     "data": {
      "image/png": "[encoded data removed]",
      "text/latex": [
       "$\\displaystyle 4 b x + x^{2} + 3$"
      ],
      "text/plain": [
       "         2    \n",
       "4⋅b⋅x + x  + 3"
      ]
     },
     "execution_count": 62,
     "metadata": {},
     "output_type": "execute_result"
    }
   ],
   "source": [
    "#Resolver analíticamente una ecuación cuadrática\n",
    "ecuacion_cuadratica=x**2+4*b*x+3\n",
    "ecuacion_cuadratica"
   ]
  },
  {
   "cell_type": "code",
   "execution_count": 63,
   "id": "7f684c59",
   "metadata": {},
   "outputs": [],
   "source": [
    "solucion=sympy.solve(ecuacion_cuadratica,x,dict=True)"
   ]
  },
  {
   "cell_type": "code",
   "execution_count": 64,
   "id": "cfe59ad0",
   "metadata": {},
   "outputs": [
    {
     "data": {
      "image/png": "[encoded data removed]",
      "text/latex": [
       "$\\displaystyle \\left[ \\left\\{ x : - 2 b - \\sqrt{4 b^{2} - 3}\\right\\}, \\  \\left\\{ x : - 2 b + \\sqrt{4 b^{2} - 3}\\right\\}\\right]$"
      ],
      "text/plain": [
       "⎡⎧             __________⎫  ⎧             __________⎫⎤\n",
       "⎢⎨            ╱    2     ⎬  ⎨            ╱    2     ⎬⎥\n",
       "⎣⎩x: -2⋅b - ╲╱  4⋅b  - 3 ⎭, ⎩x: -2⋅b + ╲╱  4⋅b  - 3 ⎭⎦"
      ]
     },
     "execution_count": 64,
     "metadata": {},
     "output_type": "execute_result"
    }
   ],
   "source": [
    "solucion"
   ]
  },
  {
   "cell_type": "code",
   "execution_count": 65,
   "id": "5346b3f4",
   "metadata": {},
   "outputs": [
    {
     "data": {
      "image/png": "[encoded data removed]",
      "text/latex": [
       "$\\displaystyle 0$"
      ],
      "text/plain": [
       "0"
      ]
     },
     "execution_count": 65,
     "metadata": {},
     "output_type": "execute_result"
    }
   ],
   "source": [
    "ecuacion_cuadratica.subs(x,solucion[1][x]).simplify()"
   ]
  },
  {
   "cell_type": "code",
   "execution_count": 66,
   "id": "717407ed",
   "metadata": {},
   "outputs": [
    {
     "name": "stdout",
     "output_type": "stream",
     "text": [
      "3*x + 4*y + 1\n",
      "5*x + 2*y - 2\n"
     ]
    }
   ],
   "source": [
    "#Resolver un sistema de ecuaciones\n",
    "ecuacion1=3*x+4*y+1\n",
    "ecuacion2=5*x+2*y-2\n",
    "print(ecuacion1)\n",
    "print(ecuacion2)"
   ]
  },
  {
   "cell_type": "code",
   "execution_count": 67,
   "id": "e61059ee",
   "metadata": {},
   "outputs": [],
   "source": [
    "solsistema=sympy.solve([ecuacion1,ecuacion2],(x,y),dict=False)"
   ]
  },
  {
   "cell_type": "code",
   "execution_count": 68,
   "id": "23955e2a",
   "metadata": {},
   "outputs": [
    {
     "data": {
      "image/png": "[encoded data removed]",
      "text/latex": [
       "$\\displaystyle \\left\\{ x : \\frac{5}{7}, \\  y : - \\frac{11}{14}\\right\\}$"
      ],
      "text/plain": [
       "⎧           -11 ⎫\n",
       "⎨x: 5/7, y: ────⎬\n",
       "⎩            14 ⎭"
      ]
     },
     "execution_count": 68,
     "metadata": {},
     "output_type": "execute_result"
    }
   ],
   "source": [
    "solsistema"
   ]
  },
  {
   "cell_type": "code",
   "execution_count": 69,
   "id": "82b4ad01",
   "metadata": {},
   "outputs": [
    {
     "data": {
      "image/png": "[encoded data removed]",
      "text/latex": [
       "$\\displaystyle 0$"
      ],
      "text/plain": [
       "0"
      ]
     },
     "execution_count": 69,
     "metadata": {},
     "output_type": "execute_result"
    }
   ],
   "source": [
    "ecuacion2.subs(solsistema)"
   ]
  },
  {
   "cell_type": "markdown",
   "id": "4d825cba",
   "metadata": {},
   "source": [
    "## graficación en Sympy"
   ]
  },
  {
   "cell_type": "code",
   "execution_count": 70,
   "id": "9b1b9ec9",
   "metadata": {},
   "outputs": [],
   "source": [
    "x=sympy.symbols('x')"
   ]
  },
  {
   "cell_type": "code",
   "execution_count": 71,
   "id": "c81ecbee",
   "metadata": {},
   "outputs": [],
   "source": [
    "y=x*x\n",
    "z=x*x+3\n",
    "w=(x-1)**2"
   ]
  },
  {
   "cell_type": "code",
   "execution_count": 72,
   "id": "d8d395a9",
   "metadata": {},
   "outputs": [
    {
     "data": {
      "image/png": "[encoded data removed]",
      "text/latex": [
       "$\\displaystyle x^{2}$"
      ],
      "text/plain": [
       " 2\n",
       "x "
      ]
     },
     "execution_count": 72,
     "metadata": {},
     "output_type": "execute_result"
    }
   ],
   "source": [
    "y"
   ]
  },
  {
   "cell_type": "code",
   "execution_count": 73,
   "id": "46aed14d",
   "metadata": {},
   "outputs": [
    {
     "data": {
      "image/png": "[encoded data removed]",
      "text/plain": [
       "<Figure size 640x480 with 1 Axes>"
      ]
     },
     "metadata": {},
     "output_type": "display_data"
    },
    {
     "data": {
      "text/plain": [
       "<sympy.plotting.plot.Plot at 0x21f3c449160>"
      ]
     },
     "execution_count": 73,
     "metadata": {},
     "output_type": "execute_result"
    }
   ],
   "source": [
    "sympy.plot(y,w,z)"
   ]
  },
  {
   "cell_type": "code",
   "execution_count": 74,
   "id": "2df24863",
   "metadata": {},
   "outputs": [
    {
     "data": {
      "image/png": "[encoded data removed]",
      "text/plain": [
       "<Figure size 640x480 with 1 Axes>"
      ]
     },
     "metadata": {},
     "output_type": "display_data"
    },
    {
     "data": {
      "text/plain": [
       "<sympy.plotting.plot.Plot at 0x21f3c3e7400>"
      ]
     },
     "execution_count": 74,
     "metadata": {},
     "output_type": "execute_result"
    }
   ],
   "source": [
    "#Pudimos haber personalizado la gráfica\n",
    "sympy.plot(y,w,z, xlim=[-5,5],ylim=[-1,20],title=\"Tres parábolas\",legend=True)"
   ]
  },
  {
   "cell_type": "code",
   "execution_count": null,
   "id": "319bc71e",
   "metadata": {},
   "outputs": [],
   "source": []
  }
 ],
 "metadata": {
  "kernelspec": {
   "display_name": "Python 3",
   "language": "python",
   "name": "python3"
  },
  "language_info": {
   "codemirror_mode": {
    "name": "ipython",
    "version": 3
   },
   "file_extension": ".py",
   "mimetype": "text/x-python",
   "name": "python",
   "nbconvert_exporter": "python",
   "pygments_lexer": "ipython3",
   "version": "3.9.5"
  },
  "vscode": {
   "interpreter": {
    "hash": "9ada32eea83c06c6418fd9dacb5580edb909b082032d188eabcfd6a2b68a7cd7"
   }
  }
 },
 "nbformat": 4,
 "nbformat_minor": 5
}
